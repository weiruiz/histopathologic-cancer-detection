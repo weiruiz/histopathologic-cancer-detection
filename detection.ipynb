{
 "cells": [
  {
   "cell_type": "markdown",
   "id": "e1f036a1",
   "metadata": {},
   "source": [
    "<strong>Step1: Brief description of the problem and data (5 pts)</strong></br>\n",
    "<strong>Briefly describe the challenge problem and NLP. Describe the size, dimension, structure, etc., of the data. </strong>"
   ]
  },
  {
   "cell_type": "code",
   "execution_count": 1,
   "id": "684a4d30",
   "metadata": {},
   "outputs": [],
   "source": [
    "import numpy as np\n",
    "import pandas as pd\n",
    "import os"
   ]
  },
  {
   "cell_type": "code",
   "execution_count": 2,
   "id": "e4d64d9a",
   "metadata": {
    "scrolled": true
   },
   "outputs": [
    {
     "name": "stdout",
     "output_type": "stream",
     "text": [
      "220025\n",
      "57458\n"
     ]
    }
   ],
   "source": [
    "print(len(os.listdir('/hpctmp/e0427773/histopathologic-cancer-detection/train/')))\n",
    "print(len(os.listdir('/hpctmp/e0427773/histopathologic-cancer-detection/test/')))"
   ]
  },
  {
   "cell_type": "markdown",
   "id": "d905fa72",
   "metadata": {},
   "source": [
    "<strong>There are 220,025 training samples and 57,458 test samples"
   ]
  },
  {
   "cell_type": "code",
   "execution_count": 2,
   "id": "203ea30f",
   "metadata": {},
   "outputs": [
    {
     "name": "stdout",
     "output_type": "stream",
     "text": [
      "(220025, 2)\n"
     ]
    }
   ],
   "source": [
    "train_labels = pd.read_csv('/hpctmp/e0427773/histopathologic-cancer-detection/train_labels.csv', dtype=str)\n",
    "print(train_labels.shape)"
   ]
  },
  {
   "cell_type": "code",
   "execution_count": 3,
   "id": "16cee3d4",
   "metadata": {},
   "outputs": [
    {
     "data": {
      "text/html": [
       "<div>\n",
       "<style scoped>\n",
       "    .dataframe tbody tr th:only-of-type {\n",
       "        vertical-align: middle;\n",
       "    }\n",
       "\n",
       "    .dataframe tbody tr th {\n",
       "        vertical-align: top;\n",
       "    }\n",
       "\n",
       "    .dataframe thead th {\n",
       "        text-align: right;\n",
       "    }\n",
       "</style>\n",
       "<table border=\"1\" class=\"dataframe\">\n",
       "  <thead>\n",
       "    <tr style=\"text-align: right;\">\n",
       "      <th></th>\n",
       "      <th>id</th>\n",
       "      <th>label</th>\n",
       "    </tr>\n",
       "  </thead>\n",
       "  <tbody>\n",
       "    <tr>\n",
       "      <th>0</th>\n",
       "      <td>f38a6374c348f90b587e046aac6079959adf3835</td>\n",
       "      <td>0.0</td>\n",
       "    </tr>\n",
       "    <tr>\n",
       "      <th>1</th>\n",
       "      <td>c18f2d887b7ae4f6742ee445113fa1aef383ed77</td>\n",
       "      <td>1.0</td>\n",
       "    </tr>\n",
       "    <tr>\n",
       "      <th>2</th>\n",
       "      <td>755db6279dae599ebb4d39a9123cce439965282d</td>\n",
       "      <td>0.0</td>\n",
       "    </tr>\n",
       "    <tr>\n",
       "      <th>3</th>\n",
       "      <td>bc3f0c64fb968ff4a8bd33af6971ecae77c75e08</td>\n",
       "      <td>0.0</td>\n",
       "    </tr>\n",
       "    <tr>\n",
       "      <th>4</th>\n",
       "      <td>068aba587a4950175d04c680d38943fd488d6a9d</td>\n",
       "      <td>0.0</td>\n",
       "    </tr>\n",
       "  </tbody>\n",
       "</table>\n",
       "</div>"
      ],
      "text/plain": [
       "                                         id  label\n",
       "0  f38a6374c348f90b587e046aac6079959adf3835    0.0\n",
       "1  c18f2d887b7ae4f6742ee445113fa1aef383ed77    1.0\n",
       "2  755db6279dae599ebb4d39a9123cce439965282d    0.0\n",
       "3  bc3f0c64fb968ff4a8bd33af6971ecae77c75e08    0.0\n",
       "4  068aba587a4950175d04c680d38943fd488d6a9d    0.0"
      ]
     },
     "execution_count": 3,
     "metadata": {},
     "output_type": "execute_result"
    }
   ],
   "source": [
    "train_labels['label'] = train_labels['label'].astype(float)\n",
    "train_labels.head()"
   ]
  },
  {
   "cell_type": "markdown",
   "id": "c0f33c47",
   "metadata": {},
   "source": [
    "<strong>Step2: Exploratory Data Analysis (EDA) — Inspect, Visualize and Clean the Data (15 pts)</strong></br>\n",
    "<strong>Show a few visualizations like histograms. Describe any data cleaning procedures. Based on your EDA, what is your plan of analysis?</strong>"
   ]
  },
  {
   "cell_type": "code",
   "execution_count": 4,
   "id": "841f6f24",
   "metadata": {},
   "outputs": [
    {
     "data": {
      "text/plain": [
       "0.0    130908\n",
       "1.0     89117\n",
       "Name: label, dtype: int64"
      ]
     },
     "execution_count": 4,
     "metadata": {},
     "output_type": "execute_result"
    }
   ],
   "source": [
    "train_labels['label'].value_counts()"
   ]
  },
  {
   "cell_type": "code",
   "execution_count": 16,
   "id": "cf69e6be",
   "metadata": {},
   "outputs": [
    {
     "data": {
      "text/plain": [
       "<AxesSubplot:ylabel='label'>"
      ]
     },
     "execution_count": 16,
     "metadata": {},
     "output_type": "execute_result"
    },
    {
     "data": {
      "image/png": "[encoded data removed]",
      "text/plain": [
       "<Figure size 432x288 with 1 Axes>"
      ]
     },
     "metadata": {},
     "output_type": "display_data"
    }
   ],
   "source": [
    "train_labels['label'].value_counts().plot(kind='pie')"
   ]
  },
  {
   "cell_type": "markdown",
   "id": "e841b5b0",
   "metadata": {},
   "source": [
    "<strong>There are 130,908 non-cancer images and 89,117 cancer images in the training samples"
   ]
  },
  {
   "cell_type": "code",
   "execution_count": 5,
   "id": "2ea1b997",
   "metadata": {},
   "outputs": [],
   "source": [
    "train_labels_pos = train_labels[train_labels['label']==1]\n",
    "train_labels_neg = train_labels[train_labels['label']==0]"
   ]
  },
  {
   "cell_type": "code",
   "execution_count": 6,
   "id": "c9188800",
   "metadata": {},
   "outputs": [],
   "source": [
    "train_labels_neg = train_labels_neg.sample(n = train_labels_pos.shape[0])"
   ]
  },
  {
   "cell_type": "code",
   "execution_count": 7,
   "id": "074d5524",
   "metadata": {},
   "outputs": [
    {
     "data": {
      "text/plain": [
       "(178234, 2)"
      ]
     },
     "execution_count": 7,
     "metadata": {},
     "output_type": "execute_result"
    }
   ],
   "source": [
    "train_labels_equal = pd.concat([train_labels_neg,train_labels_pos]).sample(frac=1, random_state=17).reset_index(drop=True)\n",
    "train_labels_equal.shape"
   ]
  },
  {
   "cell_type": "code",
   "execution_count": 14,
   "id": "5b9adc53",
   "metadata": {},
   "outputs": [
    {
     "data": {
      "text/plain": [
       "<AxesSubplot:ylabel='label'>"
      ]
     },
     "execution_count": 14,
     "metadata": {},
     "output_type": "execute_result"
    },
    {
     "data": {
      "image/png": "[encoded data removed]",
      "text/plain": [
       "<Figure size 432x288 with 1 Axes>"
      ]
     },
     "metadata": {},
     "output_type": "display_data"
    }
   ],
   "source": [
    "train_labels_equal['label'].value_counts().plot(kind='pie')"
   ]
  },
  {
   "cell_type": "markdown",
   "id": "579f1fbf",
   "metadata": {},
   "source": [
    "<strong>A balanced dataset was created by combining equal numbers of cancer (pos) and non-cancer (neg) images"
   ]
  },
  {
   "cell_type": "code",
   "execution_count": 8,
   "id": "838b5132",
   "metadata": {},
   "outputs": [],
   "source": [
    "import matplotlib.pyplot as plt\n",
    "import matplotlib.image as mpimg"
   ]
  },
  {
   "cell_type": "code",
   "execution_count": 9,
   "id": "2b25a86f",
   "metadata": {},
   "outputs": [],
   "source": [
    "from PIL import Image"
   ]
  },
  {
   "cell_type": "code",
   "execution_count": 10,
   "id": "74abaaaa",
   "metadata": {},
   "outputs": [
    {
     "data": {
      "image/png": "[encoded data removed]",
      "text/plain": [
       "<PIL.TiffImagePlugin.TiffImageFile image mode=RGB size=96x96 at 0x2B77CDC887C0>"
      ]
     },
     "metadata": {},
     "output_type": "display_data"
    },
    {
     "name": "stdout",
     "output_type": "stream",
     "text": [
      "(96, 96)\n"
     ]
    }
   ],
   "source": [
    "with Image.open('/hpctmp/e0427773/histopathologic-cancer-detection/train/7ff2b0252621ce92abe5cad8afdf331c7000612a.tif') as im:\n",
    "    im.show()\n",
    "    print(im.size)"
   ]
  },
  {
   "cell_type": "markdown",
   "id": "d51df688",
   "metadata": {},
   "source": [
    "<strong>A sample image is shown here and the size is 96 pixels in height and 96 pixels in width"
   ]
  },
  {
   "cell_type": "markdown",
   "id": "3fea27a5",
   "metadata": {},
   "source": [
    "<strong>Step3: Model Architecture (25 pts)</br>\n",
    "Describe your model architecture and reasoning for why you believe that specific architecture would be suitable for this problem. Compare multiple architectures and tune hyperparameters. "
   ]
  },
  {
   "cell_type": "code",
   "execution_count": 11,
   "id": "f7c41b66",
   "metadata": {},
   "outputs": [],
   "source": [
    "from sklearn.model_selection import train_test_split"
   ]
  },
  {
   "cell_type": "code",
   "execution_count": 12,
   "id": "95aa2073",
   "metadata": {},
   "outputs": [],
   "source": [
    "train_img, valid_img = train_test_split(train_labels_equal, test_size=0.25,\n",
    "                                        random_state=1710, stratify=train_labels_equal.label)"
   ]
  },
  {
   "cell_type": "code",
   "execution_count": 13,
   "id": "6d4f22d5",
   "metadata": {},
   "outputs": [],
   "source": [
    "import tensorflow as tf\n",
    "from tensorflow.keras.models import Sequential\n",
    "from tensorflow import keras\n",
    "from keras.layers import Dense, Activation, Flatten, Dropout, BatchNormalization\n",
    "from keras.layers import Conv2D, MaxPooling2D\n",
    "from keras import regularizers, optimizers\n",
    "from keras.layers import PReLU\n",
    "from keras.initializers import Constant\n",
    "from tensorflow.keras.preprocessing.image import ImageDataGenerator"
   ]
  },
  {
   "cell_type": "code",
   "execution_count": 14,
   "id": "8bf9a4ab",
   "metadata": {},
   "outputs": [],
   "source": [
    "train_img['id'] = train_img['id']+'.tif'\n",
    "valid_img['id'] = valid_img['id']+'.tif'"
   ]
  },
  {
   "cell_type": "code",
   "execution_count": 15,
   "id": "eb3b3e40",
   "metadata": {},
   "outputs": [],
   "source": [
    "train_img['label'] = train_img['label'].astype(str)\n",
    "valid_img['label'] = valid_img['label'].astype(str)"
   ]
  },
  {
   "cell_type": "markdown",
   "id": "2a630e9c",
   "metadata": {},
   "source": [
    "<strong>The codes below were uploaded and run on HPC due to the limited computational resource of the local machine"
   ]
  },
  {
   "cell_type": "markdown",
   "id": "6783326b",
   "metadata": {},
   "source": [
    "<strong>First I'd like to try a model with four hidden layers. Each hidden layer has two convolutional neural networks and one max pooling layer."
   ]
  },
  {
   "cell_type": "code",
   "execution_count": null,
   "id": "10972c10",
   "metadata": {},
   "outputs": [],
   "source": [
    "train_datagen=ImageDataGenerator(rescale=1/255)\n",
    "\n",
    "train_gen=train_datagen.flow_from_dataframe(dataframe=train_img,directory=\"/hpctmp/e0427773/histopathologic-cancer-detection/train/\",\n",
    "                x_col=\"id\",y_col=\"label\",batch_size=64,seed=1710,shuffle=True,\n",
    "                class_mode=\"binary\",target_size=(96,96))\n",
    "\n",
    "valid_gen=train_datagen.flow_from_dataframe(dataframe=valid_img,directory=\"/hpctmp/e0427773/histopathologic-cancer-detection/train/\",\n",
    "                x_col=\"id\",y_col=\"label\",batch_size=64,seed=1710,shuffle=True,\n",
    "                class_mode=\"binary\",target_size=(96,96))"
   ]
  },
  {
   "cell_type": "code",
   "execution_count": null,
   "id": "9375fa98",
   "metadata": {},
   "outputs": [],
   "source": [
    "model = Sequential()\n",
    "model.add(Conv2D(32, (3, 3), padding='same',input_shape=(96,96,3)))\n",
    "model.add(Activation('relu'))\n",
    "model.add(Conv2D(32, (3, 3)))\n",
    "model.add(Activation('relu'))\n",
    "model.add(MaxPooling2D(pool_size=(2, 2)))\n",
    "model.add(BatchNormalization())\n",
    "\n",
    "model.add(Conv2D(64, (3, 3)))\n",
    "model.add(Activation('relu'))\n",
    "model.add(Conv2D(64, (3, 3)))\n",
    "model.add(Activation('relu'))\n",
    "model.add(MaxPooling2D(pool_size=(2, 2)))\n",
    "model.add(BatchNormalization())\n",
    "\n",
    "model.add(Conv2D(128, (3, 3)))\n",
    "model.add(Activation('relu'))\n",
    "model.add(Conv2D(128, (3, 3)))\n",
    "model.add(Activation('relu'))\n",
    "model.add(MaxPooling2D(pool_size=(2, 2)))\n",
    "model.add(BatchNormalization())\n",
    "\n",
    "model.add(Conv2D(256, (3, 3)))\n",
    "model.add(Activation('relu'))\n",
    "model.add(Conv2D(256, (3, 3)))\n",
    "model.add(Activation('relu'))\n",
    "model.add(MaxPooling2D(pool_size=(2, 2)))\n",
    "model.add(BatchNormalization())\n",
    "          \n",
    "model.add(Flatten())\n",
    "model.add(Dropout(0.25))\n",
    "model.add(Dense(512))\n",
    "model.add(Activation('relu'))\n",
    "\n",
    "model.add(Dropout(0.25))\n",
    "model.add(Dense(256))\n",
    "model.add(Activation('relu'))\n",
    "\n",
    "model.add(Dropout(0.25))\n",
    "model.add(Dense(64))\n",
    "model.add(Activation('relu')) \n",
    "\n",
    "model.add(Dropout(0.25))\n",
    "model.add(Dense(1, activation='sigmoid'))\n",
    "opt = tf.keras.optimizers.Adam(0.001)\n",
    "model.compile(loss='binary_crossentropy', optimizer=opt, metrics=['accuracy'])\n",
    "\n",
    "hist_df = pd.DataFrame(history.history) \n",
    "with open('history.csv', mode='w') as f:\n",
    "    hist_df.to_csv(f)"
   ]
  },
  {
   "cell_type": "markdown",
   "id": "404f4181",
   "metadata": {},
   "source": [
    "<strong>Then I'd like to increase the complexity of each hidden layer but reduce the total number of hidden layers."
   ]
  },
  {
   "cell_type": "code",
   "execution_count": null,
   "id": "4ef8c1ae",
   "metadata": {},
   "outputs": [],
   "source": [
    "model2 = Sequential()\n",
    "model2.add(Conv2D(32, (3, 3), padding='same',input_shape=(96,96,3)))\n",
    "model2.add(Activation('relu'))\n",
    "model2.add(Conv2D(32, (3, 3)))\n",
    "model2.add(Activation('relu'))\n",
    "model2.add(Conv2D(32, (3, 3)))\n",
    "model2.add(Activation('relu'))\n",
    "model2.add(Conv2D(32, (3, 3)))\n",
    "model2.add(Activation('relu'))\n",
    "model2.add(MaxPooling2D(pool_size=(2, 2)))\n",
    "model2.add(BatchNormalization())\n",
    "\n",
    "model2.add(Conv2D(64, (3, 3)))\n",
    "model2.add(Activation('relu'))\n",
    "model2.add(Conv2D(64, (3, 3)))\n",
    "model2.add(Activation('relu'))\n",
    "model2.add(Conv2D(64, (3, 3)))\n",
    "model2.add(Activation('relu'))\n",
    "model2.add(Conv2D(64, (3, 3)))\n",
    "model2.add(Activation('relu'))\n",
    "model2.add(MaxPooling2D(pool_size=(2, 2)))\n",
    "model2.add(BatchNormalization())\n",
    "\n",
    "model2.add(Conv2D(128, (3, 3)))\n",
    "model2.add(Activation('relu'))\n",
    "model2.add(Conv2D(128, (3, 3)))\n",
    "model2.add(Activation('relu'))\n",
    "model2.add(Conv2D(128, (3, 3)))\n",
    "model2.add(Activation('relu'))\n",
    "model2.add(Conv2D(128, (3, 3)))\n",
    "model2.add(Activation('relu'))\n",
    "model2.add(MaxPooling2D(pool_size=(2, 2)))\n",
    "model2.add(BatchNormalization())\n",
    "          \n",
    "model2.add(Flatten())\n",
    "model2.add(Dropout(0.25))\n",
    "model2.add(Dense(256))\n",
    "model2.add(Activation('relu'))\n",
    "\n",
    "model2.add(Dropout(0.25))\n",
    "model2.add(Dense(128))\n",
    "model2.add(Activation('relu'))\n",
    "\n",
    "model2.add(Dropout(0.25))\n",
    "model2.add(Dense(64))\n",
    "model2.add(Activation('relu')) \n",
    "\n",
    "model2.add(Dropout(0.25))\n",
    "model2.add(Dense(1, activation='sigmoid'))\n",
    "opt = tf.keras.optimizers.Adam(0.001)\n",
    "model2.compile(loss='binary_crossentropy', optimizer=opt, metrics=['accuracy'])\n",
    "\n",
    "model2.summary()\n",
    "\n",
    "STEP_SIZE_TRAIN=train_generator.n//train_generator.batch_size\n",
    "STEP_SIZE_VALID=valid_generator.n//valid_generator.batch_size\n",
    "\n",
    "history2 = model2.fit_generator(generator=train_generator,\n",
    "                    steps_per_epoch=STEP_SIZE_TRAIN,\n",
    "                    validation_data=valid_generator,\n",
    "                    validation_steps=STEP_SIZE_VALID,\n",
    "                    epochs=30, verbose=1\n",
    ")\n",
    "\n",
    "hist2_df = pd.DataFrame(history2.history) \n",
    "with open('history2.csv', mode='w') as f:\n",
    "    hist2_df.to_csv(f)\n"
   ]
  },
  {
   "cell_type": "markdown",
   "id": "f8dcec4a",
   "metadata": {},
   "source": [
    "<strong>Step4: Results and Analysis (35 pts)</br>\n",
    "Run hyperparameter tuning, try different architectures for comparison, apply techniques to improve training or performance, and discuss what helped.\n",
    "Includes results with tables and figures. There is an analysis of why or why not something worked well, troubleshooting, and a hyperparameter optimization procedure summary."
   ]
  },
  {
   "cell_type": "code",
   "execution_count": null,
   "id": "60e22ce1",
   "metadata": {},
   "outputs": [
    {
     "data": {
      "text/plain": [
       "[<matplotlib.lines.Line2D at 0x7fa8bb1b2550>]"
      ]
     },
     "metadata": {},
     "output_type": "display_data"
    },
    {
     "data": {
      "image/png": "[encoded data removed]",
      "text/plain": [
       "<Figure size 432x288 with 1 Axes>"
      ]
     },
     "metadata": {},
     "output_type": "display_data"
    }
   ],
   "source": [
    "plt.plot(hist1.index+1, hist1['accuracy'], color='red')\n",
    "plt.plot(hist1.index+1, hist1['val_accuracy'], color='red', linestyle='dashed')\n",
    "plt.plot(hist2.index+1, hist2['accuracy'], color='blue')\n",
    "plt.plot(hist2.index+1, hist2['val_accuracy'], color='blue', linestyle='dashed')"
   ]
  },
  {
   "cell_type": "markdown",
   "id": "14bcee24",
   "metadata": {},
   "source": [
    "<strong>Model 1 outperformed model 2 regarding the accuracy"
   ]
  },
  {
   "cell_type": "markdown",
   "id": "c61071db",
   "metadata": {},
   "source": [
    "<strong>Strp5: Conclusion (15 pts)</br>\n",
    "Discuss and interpret results as well as learnings and takeaways. What did and did not help improve the performance of your models? What improvements could you try in the future?"
   ]
  },
  {
   "cell_type": "markdown",
   "id": "18d170d1",
   "metadata": {},
   "source": [
    "<strong>Various problems require different complexity of the model. Always try different numbers of hidden layers and different numbers of convolutional layers within each hidden layer. Meanwhile, it is important to have a balanced dataset for training."
   ]
  },
  {
   "cell_type": "code",
   "execution_count": null,
   "id": "9b7fc868",
   "metadata": {},
   "outputs": [],
   "source": [
    "test_set = os.listdir('/hpctmp/e0427773/histopathologic-cancer-detection/test/')\n",
    "test_df = pd.DataFrame(test_set)\n",
    "test_df.columns = ['id']\n",
    "test_datagen=ImageDataGenerator(rescale=1/255)\n",
    "\n",
    "test_generator=test_datagen.flow_from_dataframe(dataframe=test_df, directory=\"/hpctmp/e0427773/histopathologic-cancer-detection/test/\",x_col=\"id\",batch_size=64,seed=1710,shuffle=False,class_mode=None,target_size=(96,96))\n",
    "\n",
    "STEP_SIZE_TEST=test_generator.n//test_generator.batch_size + 1\n",
    "\n",
    "preds = model.predict_generator(generator=test_generator,steps=STEP_SIZE_TEST, verbose = 1)\n",
    "\n",
    "predictions = []\n",
    "for pred in preds:\n",
    "    if pred >= 0.5:\n",
    "        predictions.append(1)\n",
    "    else:\n",
    "        predictions.append(0)\n",
    "\n",
    "submission = test_df.copy()\n",
    "submission['id'] = list(map(lambda x: x[:-4], submission['id']))\n",
    "submission['label']=predictions\n",
    "submission.to_csv('submission.csv',index=False)"
   ]
  }
 ],
 "metadata": {
  "kernelspec": {
   "display_name": "Python 3.9.4 64-bit",
   "language": "python",
   "name": "python3"
  },
  "language_info": {
   "codemirror_mode": {
    "name": "ipython",
    "version": 3
   },
   "file_extension": ".py",
   "mimetype": "text/x-python",
   "name": "python",
   "nbconvert_exporter": "python",
   "pygments_lexer": "ipython3",
   "version": "3.9.4"
  },
  "vscode": {
   "interpreter": {
    "hash": "7812ea015bdcee6f23a998adcdd2ef97c151c0c241b7b7070987d9313e41299d"
   }
  }
 },
 "nbformat": 4,
 "nbformat_minor": 5
}
